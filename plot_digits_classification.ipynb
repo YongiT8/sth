{
  "cells": [
    {
      "cell_type": "code",
      "execution_count": 2,
      "metadata": {
        "collapsed": false
      },
      "outputs": [],
      "source": [
        "%matplotlib inline"
      ]
    },
    {
      "attachments": {},
      "cell_type": "markdown",
      "metadata": {},
      "source": [
        "\n",
        "# Recognizing hand-written digits\n",
        "\n",
        "This example shows how scikit-learn can be used to recognize images of\n",
        "hand-written digits, from 0-9.\n"
      ]
    },
    {
      "cell_type": "code",
      "execution_count": 1,
      "metadata": {
        "collapsed": false
      },
      "outputs": [],
      "source": [
        "# Author: Gael Varoquaux <gael dot varoquaux at normalesup dot org>\n",
        "# License: BSD 3 clause\n",
        "\n",
        "# Standard scientific Python imports\n",
        "import matplotlib.pyplot as plt\n",
        "\n",
        "# Import datasets, classifiers and performance metrics\n",
        "from sklearn import datasets, svm, metrics\n",
        "from sklearn.model_selection import train_test_split"
      ]
    },
    {
      "attachments": {},
      "cell_type": "markdown",
      "metadata": {},
      "source": [
        "Test tu them"
      ]
    },
    {
      "cell_type": "code",
      "execution_count": 2,
      "metadata": {},
      "outputs": [],
      "source": [
        "import cv2\n",
        "import numpy as np\n",
        "import os\n",
        "import sys"
      ]
    },
    {
      "cell_type": "code",
      "execution_count": 21,
      "metadata": {},
      "outputs": [
        {
          "name": "stdout",
          "output_type": "stream",
          "text": [
            "100\n"
          ]
        }
      ],
      "source": [
        "images = []\n",
        "img = cv2.imread(os.path.join(sys.path[0], '0.png'))\n",
        "img = cv2.resize(cv2.bitwise_not(np.array(cv2.cvtColor(img, cv2.COLOR_BGR2GRAY))), (8, 8))\n",
        "images.append(img)\n",
        "img = cv2.imread(os.path.join(sys.path[0], '1.png'))\n",
        "img = cv2.resize(cv2.bitwise_not(np.array(cv2.cvtColor(img, cv2.COLOR_BGR2GRAY))), (8, 8))\n",
        "images.append(img)\n",
        "img = cv2.imread(os.path.join(sys.path[0], '2.png'))\n",
        "img = cv2.resize(cv2.bitwise_not(np.array(cv2.cvtColor(img, cv2.COLOR_BGR2GRAY))), (8, 8))\n",
        "images.append(img)\n",
        "img = cv2.imread(os.path.join(sys.path[0], '3.png'))\n",
        "img = cv2.resize(cv2.bitwise_not(np.array(cv2.cvtColor(img, cv2.COLOR_BGR2GRAY))), (8, 8))\n",
        "images.append(img)\n",
        "img = cv2.imread(os.path.join(sys.path[0], '4.png'))\n",
        "img = cv2.resize(cv2.bitwise_not(np.array(cv2.cvtColor(img, cv2.COLOR_BGR2GRAY))), (8, 8))\n",
        "images.append(img)\n",
        "img = cv2.imread(os.path.join(sys.path[0], '5.png'))\n",
        "img = cv2.resize(cv2.bitwise_not(np.array(cv2.cvtColor(img, cv2.COLOR_BGR2GRAY))), (8, 8))\n",
        "images.append(img)\n",
        "img = cv2.imread(os.path.join(sys.path[0], '6.png'))\n",
        "img = cv2.resize(cv2.bitwise_not(np.array(cv2.cvtColor(img, cv2.COLOR_BGR2GRAY))), (8, 8))\n",
        "images.append(img)\n",
        "img = cv2.imread(os.path.join(sys.path[0], '7.png'))\n",
        "img = cv2.resize(cv2.bitwise_not(np.array(cv2.cvtColor(img, cv2.COLOR_BGR2GRAY))), (8, 8))\n",
        "images.append(img)\n",
        "img = cv2.imread(os.path.join(sys.path[0], '8.png'))\n",
        "img = cv2.resize(cv2.bitwise_not(np.array(cv2.cvtColor(img, cv2.COLOR_BGR2GRAY))), (8, 8))\n",
        "images.append(img)\n",
        "img = cv2.imread(os.path.join(sys.path[0], '9.png'))\n",
        "img = cv2.resize(cv2.bitwise_not(np.array(cv2.cvtColor(img, cv2.COLOR_BGR2GRAY))), (8, 8))\n",
        "images.append(img)\n",
        "img = cv2.imread(os.path.join(sys.path[0], '0_1.png'))\n",
        "img = cv2.resize(cv2.bitwise_not(np.array(cv2.cvtColor(img, cv2.COLOR_BGR2GRAY))), (8, 8))\n",
        "images.append(img)\n",
        "img = cv2.imread(os.path.join(sys.path[0], '1_1.png'))\n",
        "img = cv2.resize(cv2.bitwise_not(np.array(cv2.cvtColor(img, cv2.COLOR_BGR2GRAY))), (8, 8))\n",
        "images.append(img)\n",
        "img = cv2.imread(os.path.join(sys.path[0], '2_1.png'))\n",
        "img = cv2.resize(cv2.bitwise_not(np.array(cv2.cvtColor(img, cv2.COLOR_BGR2GRAY))), (8, 8))\n",
        "images.append(img)\n",
        "img = cv2.imread(os.path.join(sys.path[0], '3_1.png'))\n",
        "img = cv2.resize(cv2.bitwise_not(np.array(cv2.cvtColor(img, cv2.COLOR_BGR2GRAY))), (8, 8))\n",
        "images.append(img)\n",
        "img = cv2.imread(os.path.join(sys.path[0], '4_1.png'))\n",
        "img = cv2.resize(cv2.bitwise_not(np.array(cv2.cvtColor(img, cv2.COLOR_BGR2GRAY))), (8, 8))\n",
        "images.append(img)\n",
        "img = cv2.imread(os.path.join(sys.path[0], '5_1.png'))\n",
        "img = cv2.resize(cv2.bitwise_not(np.array(cv2.cvtColor(img, cv2.COLOR_BGR2GRAY))), (8, 8))\n",
        "images.append(img)\n",
        "img = cv2.imread(os.path.join(sys.path[0], '6_1.png'))\n",
        "img = cv2.resize(cv2.bitwise_not(np.array(cv2.cvtColor(img, cv2.COLOR_BGR2GRAY))), (8, 8))\n",
        "images.append(img)\n",
        "img = cv2.imread(os.path.join(sys.path[0], '7_1.png'))\n",
        "img = cv2.resize(cv2.bitwise_not(np.array(cv2.cvtColor(img, cv2.COLOR_BGR2GRAY))), (8, 8))\n",
        "images.append(img)\n",
        "img = cv2.imread(os.path.join(sys.path[0], '8_1.png'))\n",
        "img = cv2.resize(cv2.bitwise_not(np.array(cv2.cvtColor(img, cv2.COLOR_BGR2GRAY))), (8, 8))\n",
        "images.append(img)\n",
        "img = cv2.imread(os.path.join(sys.path[0], '9_1.png'))\n",
        "img = cv2.resize(cv2.bitwise_not(np.array(cv2.cvtColor(img, cv2.COLOR_BGR2GRAY))), (8, 8))\n",
        "images.append(img)\n",
        "img = cv2.imread(os.path.join(sys.path[0], '0_2.png'))\n",
        "img = cv2.resize(cv2.bitwise_not(np.array(cv2.cvtColor(img, cv2.COLOR_BGR2GRAY))), (8, 8))\n",
        "images.append(img)\n",
        "img = cv2.imread(os.path.join(sys.path[0], '1_2.png'))\n",
        "img = cv2.resize(cv2.bitwise_not(np.array(cv2.cvtColor(img, cv2.COLOR_BGR2GRAY))), (8, 8))\n",
        "images.append(img)\n",
        "img = cv2.imread(os.path.join(sys.path[0], '2_2.png'))\n",
        "img = cv2.resize(cv2.bitwise_not(np.array(cv2.cvtColor(img, cv2.COLOR_BGR2GRAY))), (8, 8))\n",
        "images.append(img)\n",
        "img = cv2.imread(os.path.join(sys.path[0], '3_2.png'))\n",
        "img = cv2.resize(cv2.bitwise_not(np.array(cv2.cvtColor(img, cv2.COLOR_BGR2GRAY))), (8, 8))\n",
        "images.append(img)\n",
        "img = cv2.imread(os.path.join(sys.path[0], '4_2.png'))\n",
        "img = cv2.resize(cv2.bitwise_not(np.array(cv2.cvtColor(img, cv2.COLOR_BGR2GRAY))), (8, 8))\n",
        "images.append(img)\n",
        "img = cv2.imread(os.path.join(sys.path[0], '5_2.png'))\n",
        "img = cv2.resize(cv2.bitwise_not(np.array(cv2.cvtColor(img, cv2.COLOR_BGR2GRAY))), (8, 8))\n",
        "images.append(img)\n",
        "img = cv2.imread(os.path.join(sys.path[0], '6_2.png'))\n",
        "img = cv2.resize(cv2.bitwise_not(np.array(cv2.cvtColor(img, cv2.COLOR_BGR2GRAY))), (8, 8))\n",
        "images.append(img)\n",
        "img = cv2.imread(os.path.join(sys.path[0], '7_2.png'))\n",
        "img = cv2.resize(cv2.bitwise_not(np.array(cv2.cvtColor(img, cv2.COLOR_BGR2GRAY))), (8, 8))\n",
        "images.append(img)\n",
        "img = cv2.imread(os.path.join(sys.path[0], '8_2.png'))\n",
        "img = cv2.resize(cv2.bitwise_not(np.array(cv2.cvtColor(img, cv2.COLOR_BGR2GRAY))), (8, 8))\n",
        "images.append(img)\n",
        "img = cv2.imread(os.path.join(sys.path[0], '9_2.png'))\n",
        "img = cv2.resize(cv2.bitwise_not(np.array(cv2.cvtColor(img, cv2.COLOR_BGR2GRAY))), (8, 8))\n",
        "images.append(img)\n",
        "img = cv2.imread(os.path.join(sys.path[0], '0_3.png'))\n",
        "img = cv2.resize(cv2.bitwise_not(np.array(cv2.cvtColor(img, cv2.COLOR_BGR2GRAY))), (8, 8))\n",
        "images.append(img)\n",
        "img = cv2.imread(os.path.join(sys.path[0], '1_3.png'))\n",
        "img = cv2.resize(cv2.bitwise_not(np.array(cv2.cvtColor(img, cv2.COLOR_BGR2GRAY))), (8, 8))\n",
        "images.append(img)\n",
        "img = cv2.imread(os.path.join(sys.path[0], '2_3.png'))\n",
        "img = cv2.resize(cv2.bitwise_not(np.array(cv2.cvtColor(img, cv2.COLOR_BGR2GRAY))), (8, 8))\n",
        "images.append(img)\n",
        "img = cv2.imread(os.path.join(sys.path[0], '3_3.png'))\n",
        "img = cv2.resize(cv2.bitwise_not(np.array(cv2.cvtColor(img, cv2.COLOR_BGR2GRAY))), (8, 8))\n",
        "images.append(img)\n",
        "img = cv2.imread(os.path.join(sys.path[0], '4_3.png'))\n",
        "img = cv2.resize(cv2.bitwise_not(np.array(cv2.cvtColor(img, cv2.COLOR_BGR2GRAY))), (8, 8))\n",
        "images.append(img)\n",
        "img = cv2.imread(os.path.join(sys.path[0], '5_3.png'))\n",
        "img = cv2.resize(cv2.bitwise_not(np.array(cv2.cvtColor(img, cv2.COLOR_BGR2GRAY))), (8, 8))\n",
        "images.append(img)\n",
        "img = cv2.imread(os.path.join(sys.path[0], '6_3.png'))\n",
        "img = cv2.resize(cv2.bitwise_not(np.array(cv2.cvtColor(img, cv2.COLOR_BGR2GRAY))), (8, 8))\n",
        "images.append(img)\n",
        "img = cv2.imread(os.path.join(sys.path[0], '7_3.png'))\n",
        "img = cv2.resize(cv2.bitwise_not(np.array(cv2.cvtColor(img, cv2.COLOR_BGR2GRAY))), (8, 8))\n",
        "images.append(img)\n",
        "img = cv2.imread(os.path.join(sys.path[0], '8_3.png'))\n",
        "img = cv2.resize(cv2.bitwise_not(np.array(cv2.cvtColor(img, cv2.COLOR_BGR2GRAY))), (8, 8))\n",
        "images.append(img)\n",
        "img = cv2.imread(os.path.join(sys.path[0], '9_3.png'))\n",
        "img = cv2.resize(cv2.bitwise_not(np.array(cv2.cvtColor(img, cv2.COLOR_BGR2GRAY))), (8, 8))\n",
        "images.append(img)\n",
        "img = cv2.imread(os.path.join(sys.path[0], '0_4.png'))\n",
        "img = cv2.resize(cv2.bitwise_not(np.array(cv2.cvtColor(img, cv2.COLOR_BGR2GRAY))), (8, 8))\n",
        "images.append(img)\n",
        "img = cv2.imread(os.path.join(sys.path[0], '1_4.png'))\n",
        "img = cv2.resize(cv2.bitwise_not(np.array(cv2.cvtColor(img, cv2.COLOR_BGR2GRAY))), (8, 8))\n",
        "images.append(img)\n",
        "img = cv2.imread(os.path.join(sys.path[0], '2_4.png'))\n",
        "img = cv2.resize(cv2.bitwise_not(np.array(cv2.cvtColor(img, cv2.COLOR_BGR2GRAY))), (8, 8))\n",
        "images.append(img)\n",
        "img = cv2.imread(os.path.join(sys.path[0], '3_4.png'))\n",
        "img = cv2.resize(cv2.bitwise_not(np.array(cv2.cvtColor(img, cv2.COLOR_BGR2GRAY))), (8, 8))\n",
        "images.append(img)\n",
        "img = cv2.imread(os.path.join(sys.path[0], '4_4.png'))\n",
        "img = cv2.resize(cv2.bitwise_not(np.array(cv2.cvtColor(img, cv2.COLOR_BGR2GRAY))), (8, 8))\n",
        "images.append(img)\n",
        "img = cv2.imread(os.path.join(sys.path[0], '5_4.png'))\n",
        "img = cv2.resize(cv2.bitwise_not(np.array(cv2.cvtColor(img, cv2.COLOR_BGR2GRAY))), (8, 8))\n",
        "images.append(img)\n",
        "img = cv2.imread(os.path.join(sys.path[0], '6_4.png'))\n",
        "img = cv2.resize(cv2.bitwise_not(np.array(cv2.cvtColor(img, cv2.COLOR_BGR2GRAY))), (8, 8))\n",
        "images.append(img)\n",
        "img = cv2.imread(os.path.join(sys.path[0], '7_4.png'))\n",
        "img = cv2.resize(cv2.bitwise_not(np.array(cv2.cvtColor(img, cv2.COLOR_BGR2GRAY))), (8, 8))\n",
        "images.append(img)\n",
        "img = cv2.imread(os.path.join(sys.path[0], '8_4.png'))\n",
        "img = cv2.resize(cv2.bitwise_not(np.array(cv2.cvtColor(img, cv2.COLOR_BGR2GRAY))), (8, 8))\n",
        "images.append(img)\n",
        "img = cv2.imread(os.path.join(sys.path[0], '9_4.png'))\n",
        "img = cv2.resize(cv2.bitwise_not(np.array(cv2.cvtColor(img, cv2.COLOR_BGR2GRAY))), (8, 8))\n",
        "images.append(img)\n",
        "img = cv2.imread(os.path.join(sys.path[0], '0_5.png'))\n",
        "img = cv2.resize(cv2.bitwise_not(np.array(cv2.cvtColor(img, cv2.COLOR_BGR2GRAY))), (8, 8))\n",
        "images.append(img)\n",
        "img = cv2.imread(os.path.join(sys.path[0], '1_5.png'))\n",
        "img = cv2.resize(cv2.bitwise_not(np.array(cv2.cvtColor(img, cv2.COLOR_BGR2GRAY))), (8, 8))\n",
        "images.append(img)\n",
        "img = cv2.imread(os.path.join(sys.path[0], '2_5.png'))\n",
        "img = cv2.resize(cv2.bitwise_not(np.array(cv2.cvtColor(img, cv2.COLOR_BGR2GRAY))), (8, 8))\n",
        "images.append(img)\n",
        "img = cv2.imread(os.path.join(sys.path[0], '3_5.png'))\n",
        "img = cv2.resize(cv2.bitwise_not(np.array(cv2.cvtColor(img, cv2.COLOR_BGR2GRAY))), (8, 8))\n",
        "images.append(img)\n",
        "img = cv2.imread(os.path.join(sys.path[0], '4_5.png'))\n",
        "img = cv2.resize(cv2.bitwise_not(np.array(cv2.cvtColor(img, cv2.COLOR_BGR2GRAY))), (8, 8))\n",
        "images.append(img)\n",
        "img = cv2.imread(os.path.join(sys.path[0], '5_5.png'))\n",
        "img = cv2.resize(cv2.bitwise_not(np.array(cv2.cvtColor(img, cv2.COLOR_BGR2GRAY))), (8, 8))\n",
        "images.append(img)\n",
        "img = cv2.imread(os.path.join(sys.path[0], '6_5.png'))\n",
        "img = cv2.resize(cv2.bitwise_not(np.array(cv2.cvtColor(img, cv2.COLOR_BGR2GRAY))), (8, 8))\n",
        "images.append(img)\n",
        "img = cv2.imread(os.path.join(sys.path[0], '7_5.png'))\n",
        "img = cv2.resize(cv2.bitwise_not(np.array(cv2.cvtColor(img, cv2.COLOR_BGR2GRAY))), (8, 8))\n",
        "images.append(img)\n",
        "img = cv2.imread(os.path.join(sys.path[0], '8_5.png'))\n",
        "img = cv2.resize(cv2.bitwise_not(np.array(cv2.cvtColor(img, cv2.COLOR_BGR2GRAY))), (8, 8))\n",
        "images.append(img)\n",
        "img = cv2.imread(os.path.join(sys.path[0], '9_5.png'))\n",
        "img = cv2.resize(cv2.bitwise_not(np.array(cv2.cvtColor(img, cv2.COLOR_BGR2GRAY))), (8, 8))\n",
        "images.append(img)\n",
        "img = cv2.imread(os.path.join(sys.path[0], '0_6.png'))\n",
        "img = cv2.resize(cv2.bitwise_not(np.array(cv2.cvtColor(img, cv2.COLOR_BGR2GRAY))), (8, 8))\n",
        "images.append(img)\n",
        "img = cv2.imread(os.path.join(sys.path[0], '1_6.png'))\n",
        "img = cv2.resize(cv2.bitwise_not(np.array(cv2.cvtColor(img, cv2.COLOR_BGR2GRAY))), (8, 8))\n",
        "images.append(img)\n",
        "img = cv2.imread(os.path.join(sys.path[0], '2_6.png'))\n",
        "img = cv2.resize(cv2.bitwise_not(np.array(cv2.cvtColor(img, cv2.COLOR_BGR2GRAY))), (8, 8))\n",
        "images.append(img)\n",
        "img = cv2.imread(os.path.join(sys.path[0], '3_6.png'))\n",
        "img = cv2.resize(cv2.bitwise_not(np.array(cv2.cvtColor(img, cv2.COLOR_BGR2GRAY))), (8, 8))\n",
        "images.append(img)\n",
        "img = cv2.imread(os.path.join(sys.path[0], '4_6.png'))\n",
        "img = cv2.resize(cv2.bitwise_not(np.array(cv2.cvtColor(img, cv2.COLOR_BGR2GRAY))), (8, 8))\n",
        "images.append(img)\n",
        "img = cv2.imread(os.path.join(sys.path[0], '5_6.png'))\n",
        "img = cv2.resize(cv2.bitwise_not(np.array(cv2.cvtColor(img, cv2.COLOR_BGR2GRAY))), (8, 8))\n",
        "images.append(img)\n",
        "img = cv2.imread(os.path.join(sys.path[0], '6_6.png'))\n",
        "img = cv2.resize(cv2.bitwise_not(np.array(cv2.cvtColor(img, cv2.COLOR_BGR2GRAY))), (8, 8))\n",
        "images.append(img)\n",
        "img = cv2.imread(os.path.join(sys.path[0], '7_6.png'))\n",
        "img = cv2.resize(cv2.bitwise_not(np.array(cv2.cvtColor(img, cv2.COLOR_BGR2GRAY))), (8, 8))\n",
        "images.append(img)\n",
        "img = cv2.imread(os.path.join(sys.path[0], '8_6.png'))\n",
        "img = cv2.resize(cv2.bitwise_not(np.array(cv2.cvtColor(img, cv2.COLOR_BGR2GRAY))), (8, 8))\n",
        "images.append(img)\n",
        "img = cv2.imread(os.path.join(sys.path[0], '9_6.png'))\n",
        "img = cv2.resize(cv2.bitwise_not(np.array(cv2.cvtColor(img, cv2.COLOR_BGR2GRAY))), (8, 8))\n",
        "images.append(img)\n",
        "img = cv2.imread(os.path.join(sys.path[0], '0_7.png'))\n",
        "img = cv2.resize(cv2.bitwise_not(np.array(cv2.cvtColor(img, cv2.COLOR_BGR2GRAY))), (8, 8))\n",
        "images.append(img)\n",
        "img = cv2.imread(os.path.join(sys.path[0], '1_7.png'))\n",
        "img = cv2.resize(cv2.bitwise_not(np.array(cv2.cvtColor(img, cv2.COLOR_BGR2GRAY))), (8, 8))\n",
        "images.append(img)\n",
        "img = cv2.imread(os.path.join(sys.path[0], '2_7.png'))\n",
        "img = cv2.resize(cv2.bitwise_not(np.array(cv2.cvtColor(img, cv2.COLOR_BGR2GRAY))), (8, 8))\n",
        "images.append(img)\n",
        "img = cv2.imread(os.path.join(sys.path[0], '3_7.png'))\n",
        "img = cv2.resize(cv2.bitwise_not(np.array(cv2.cvtColor(img, cv2.COLOR_BGR2GRAY))), (8, 8))\n",
        "images.append(img)\n",
        "img = cv2.imread(os.path.join(sys.path[0], '4_7.png'))\n",
        "img = cv2.resize(cv2.bitwise_not(np.array(cv2.cvtColor(img, cv2.COLOR_BGR2GRAY))), (8, 8))\n",
        "images.append(img)\n",
        "img = cv2.imread(os.path.join(sys.path[0], '5_7.png'))\n",
        "img = cv2.resize(cv2.bitwise_not(np.array(cv2.cvtColor(img, cv2.COLOR_BGR2GRAY))), (8, 8))\n",
        "images.append(img)\n",
        "img = cv2.imread(os.path.join(sys.path[0], '6_7.png'))\n",
        "img = cv2.resize(cv2.bitwise_not(np.array(cv2.cvtColor(img, cv2.COLOR_BGR2GRAY))), (8, 8))\n",
        "images.append(img)\n",
        "img = cv2.imread(os.path.join(sys.path[0], '7_7.png'))\n",
        "img = cv2.resize(cv2.bitwise_not(np.array(cv2.cvtColor(img, cv2.COLOR_BGR2GRAY))), (8, 8))\n",
        "images.append(img)\n",
        "img = cv2.imread(os.path.join(sys.path[0], '8_7.png'))\n",
        "img = cv2.resize(cv2.bitwise_not(np.array(cv2.cvtColor(img, cv2.COLOR_BGR2GRAY))), (8, 8))\n",
        "images.append(img)\n",
        "img = cv2.imread(os.path.join(sys.path[0], '9_7.png'))\n",
        "img = cv2.resize(cv2.bitwise_not(np.array(cv2.cvtColor(img, cv2.COLOR_BGR2GRAY))), (8, 8))\n",
        "images.append(img)\n",
        "img = cv2.imread(os.path.join(sys.path[0], '0_8.png'))\n",
        "img = cv2.resize(cv2.bitwise_not(np.array(cv2.cvtColor(img, cv2.COLOR_BGR2GRAY))), (8, 8))\n",
        "images.append(img)\n",
        "img = cv2.imread(os.path.join(sys.path[0], '1_8.png'))\n",
        "img = cv2.resize(cv2.bitwise_not(np.array(cv2.cvtColor(img, cv2.COLOR_BGR2GRAY))), (8, 8))\n",
        "images.append(img)\n",
        "img = cv2.imread(os.path.join(sys.path[0], '2_8.png'))\n",
        "img = cv2.resize(cv2.bitwise_not(np.array(cv2.cvtColor(img, cv2.COLOR_BGR2GRAY))), (8, 8))\n",
        "images.append(img)\n",
        "img = cv2.imread(os.path.join(sys.path[0], '3_8.png'))\n",
        "img = cv2.resize(cv2.bitwise_not(np.array(cv2.cvtColor(img, cv2.COLOR_BGR2GRAY))), (8, 8))\n",
        "images.append(img)\n",
        "img = cv2.imread(os.path.join(sys.path[0], '4_8.png'))\n",
        "img = cv2.resize(cv2.bitwise_not(np.array(cv2.cvtColor(img, cv2.COLOR_BGR2GRAY))), (8, 8))\n",
        "images.append(img)\n",
        "img = cv2.imread(os.path.join(sys.path[0], '5_8.png'))\n",
        "img = cv2.resize(cv2.bitwise_not(np.array(cv2.cvtColor(img, cv2.COLOR_BGR2GRAY))), (8, 8))\n",
        "images.append(img)\n",
        "img = cv2.imread(os.path.join(sys.path[0], '6_8.png'))\n",
        "img = cv2.resize(cv2.bitwise_not(np.array(cv2.cvtColor(img, cv2.COLOR_BGR2GRAY))), (8, 8))\n",
        "images.append(img)\n",
        "img = cv2.imread(os.path.join(sys.path[0], '7_8.png'))\n",
        "img = cv2.resize(cv2.bitwise_not(np.array(cv2.cvtColor(img, cv2.COLOR_BGR2GRAY))), (8, 8))\n",
        "images.append(img)\n",
        "img = cv2.imread(os.path.join(sys.path[0], '8_8.png'))\n",
        "img = cv2.resize(cv2.bitwise_not(np.array(cv2.cvtColor(img, cv2.COLOR_BGR2GRAY))), (8, 8))\n",
        "images.append(img)\n",
        "img = cv2.imread(os.path.join(sys.path[0], '9_8.png'))\n",
        "img = cv2.resize(cv2.bitwise_not(np.array(cv2.cvtColor(img, cv2.COLOR_BGR2GRAY))), (8, 8))\n",
        "images.append(img)\n",
        "img = cv2.imread(os.path.join(sys.path[0], '0_9.png'))\n",
        "img = cv2.resize(cv2.bitwise_not(np.array(cv2.cvtColor(img, cv2.COLOR_BGR2GRAY))), (8, 8))\n",
        "images.append(img)\n",
        "img = cv2.imread(os.path.join(sys.path[0], '1_9.png'))\n",
        "img = cv2.resize(cv2.bitwise_not(np.array(cv2.cvtColor(img, cv2.COLOR_BGR2GRAY))), (8, 8))\n",
        "images.append(img)\n",
        "img = cv2.imread(os.path.join(sys.path[0], '2_9.png'))\n",
        "img = cv2.resize(cv2.bitwise_not(np.array(cv2.cvtColor(img, cv2.COLOR_BGR2GRAY))), (8, 8))\n",
        "images.append(img)\n",
        "img = cv2.imread(os.path.join(sys.path[0], '3_9.png'))\n",
        "img = cv2.resize(cv2.bitwise_not(np.array(cv2.cvtColor(img, cv2.COLOR_BGR2GRAY))), (8, 8))\n",
        "images.append(img)\n",
        "img = cv2.imread(os.path.join(sys.path[0], '4_9.png'))\n",
        "img = cv2.resize(cv2.bitwise_not(np.array(cv2.cvtColor(img, cv2.COLOR_BGR2GRAY))), (8, 8))\n",
        "images.append(img)\n",
        "img = cv2.imread(os.path.join(sys.path[0], '5_9.png'))\n",
        "img = cv2.resize(cv2.bitwise_not(np.array(cv2.cvtColor(img, cv2.COLOR_BGR2GRAY))), (8, 8))\n",
        "images.append(img)\n",
        "img = cv2.imread(os.path.join(sys.path[0], '6_9.png'))\n",
        "img = cv2.resize(cv2.bitwise_not(np.array(cv2.cvtColor(img, cv2.COLOR_BGR2GRAY))), (8, 8))\n",
        "images.append(img)\n",
        "img = cv2.imread(os.path.join(sys.path[0], '7_9.png'))\n",
        "img = cv2.resize(cv2.bitwise_not(np.array(cv2.cvtColor(img, cv2.COLOR_BGR2GRAY))), (8, 8))\n",
        "images.append(img)\n",
        "img = cv2.imread(os.path.join(sys.path[0], '8_9.png'))\n",
        "img = cv2.resize(cv2.bitwise_not(np.array(cv2.cvtColor(img, cv2.COLOR_BGR2GRAY))), (8, 8))\n",
        "images.append(img)\n",
        "img = cv2.imread(os.path.join(sys.path[0], '9_9.png'))\n",
        "img = cv2.resize(cv2.bitwise_not(np.array(cv2.cvtColor(img, cv2.COLOR_BGR2GRAY))), (8, 8))\n",
        "images.append(img)\n",
        "targets = [0, 1, 2, 3, 4, 5, 6, 7, 8, 9, 0, 1, 2, 3, 4, 5, 6, 7, 8, 9, 0, 1, 2, 3, 4, 5, 6, 7, 8, 9, 0, 1, 2, 3, 4, 5, 6, 7, 8, 9, 0, 1, 2, 3, 4, 5, 6, 7, 8, 9, 0, 1, 2, 3, 4, 5, 6, 7, 8, 9, 0, 1, 2, 3, 4, 5, 6, 7, 8, 9, 0, 1, 2, 3, 4, 5, 6, 7, 8, 9, 0, 1, 2, 3, 4, 5, 6, 7, 8, 9, 0, 1, 2, 3, 4, 5, 6, 7, 8, 9]\n",
        "print(len(targets))"
      ]
    },
    {
      "attachments": {},
      "cell_type": "markdown",
      "metadata": {},
      "source": [
        "Digits dataset (tu tao)"
      ]
    },
    {
      "cell_type": "code",
      "execution_count": 4,
      "metadata": {},
      "outputs": [
        {
          "data": {
            "image/png": "[encoded data removed]",
            "text/plain": [
              "<Figure size 1000x300 with 10 Axes>"
            ]
          },
          "metadata": {},
          "output_type": "display_data"
        }
      ],
      "source": [
        "_, axes = plt.subplots(nrows=1, ncols=10, figsize=(10, 3))\n",
        "for ax, image, label in zip(axes, images, targets):\n",
        "    ax.set_axis_off()\n",
        "    ax.imshow(image, cmap=plt.cm.gray_r, interpolation=\"nearest\")\n",
        "    ax.set_title(\"Training: %i\" % label)"
      ]
    },
    {
      "attachments": {},
      "cell_type": "markdown",
      "metadata": {},
      "source": [
        "## Digits dataset\n",
        "\n",
        "The digits dataset consists of 8x8\n",
        "pixel images of digits. The ``images`` attribute of the dataset stores\n",
        "8x8 arrays of grayscale values for each image. We will use these arrays to\n",
        "visualize the first 4 images. The ``target`` attribute of the dataset stores\n",
        "the digit each image represents and this is included in the title of the 4\n",
        "plots below.\n",
        "\n",
        "Note: if we were working from image files (e.g., 'png' files), we would load\n",
        "them using :func:`matplotlib.pyplot.imread`.\n",
        "\n"
      ]
    },
    {
      "cell_type": "code",
      "execution_count": 7,
      "metadata": {
        "collapsed": false
      },
      "outputs": [
        {
          "data": {
            "image/png": "[encoded data removed]",
            "text/plain": [
              "<Figure size 1000x300 with 4 Axes>"
            ]
          },
          "metadata": {},
          "output_type": "display_data"
        }
      ],
      "source": [
        "digits = datasets.load_digits()\n",
        "_, axes = plt.subplots(nrows=1, ncols=4, figsize=(10, 3))\n",
        "\n",
        "for ax, image, label in zip(axes, digits.images, digits.target):\n",
        "    ax.set_axis_off()\n",
        "    ax.imshow(image, cmap=plt.cm.gray_r, interpolation=\"nearest\")\n",
        "    ax.set_title(\"Training: %i\" % label)"
      ]
    },
    {
      "attachments": {},
      "cell_type": "markdown",
      "metadata": {},
      "source": [
        "## Classification\n",
        "\n",
        "To apply a classifier on this data, we need to flatten the images, turning\n",
        "each 2-D array of grayscale values from shape ``(8, 8)`` into shape\n",
        "``(64,)``. Subsequently, the entire dataset will be of shape\n",
        "``(n_samples, n_features)``, where ``n_samples`` is the number of images and\n",
        "``n_features`` is the total number of pixels in each image.\n",
        "\n",
        "We can then split the data into train and test subsets and fit a support\n",
        "vector classifier on the train samples. The fitted classifier can\n",
        "subsequently be used to predict the value of the digit for the samples\n",
        "in the test subset.\n",
        "\n"
      ]
    },
    {
      "cell_type": "code",
      "execution_count": 18,
      "metadata": {},
      "outputs": [
        {
          "name": "stdout",
          "output_type": "stream",
          "text": [
            "[0 1 1 3 4 5 6 7 8 9 0 4 6 9 4 5 6 7 8 9 0 1 6 6 4 5 6 7 8 8 6 9 6 6 4 6 6\n",
            " 7 6 9 0 9 6 6 4 6 6 7 6 9 6 9 6 6 4 5 6 9 6 9 6 1 6 9 4 6 6 4 6 9 6 6 6 4\n",
            " 6 4 6 4 6 6]\n"
          ]
        }
      ],
      "source": [
        "digits = datasets.load_digits()#\n",
        "# flatten the images\n",
        "images = np.array(images)\n",
        "dataReal = images.reshape((len(images), -1))\n",
        "n_samples = len(digits.images)\n",
        "data = digits.images.reshape((n_samples, -1))\n",
        "# Create a classifier: a support vector classifier\n",
        "clf = svm.SVC(gamma=0.001)\n",
        "\n",
        "# Split data into 50% train and 50% test subsets\n",
        "X_train, X_test, y_train, y_test = train_test_split(\n",
        "    dataReal, targets, test_size=0.8, shuffle=False\n",
        ")\n",
        "# Learn the digits on the train subset\n",
        "clf.fit(X_train, y_train)\n",
        "\n",
        "# Predict the value of the digit on the test subset\n",
        "predicted = clf.predict(X_test)"
      ]
    },
    {
      "attachments": {},
      "cell_type": "markdown",
      "metadata": {},
      "source": [
        "Below we visualize the first 4 test samples and show their predicted\n",
        "digit value in the title.\n",
        "\n"
      ]
    },
    {
      "cell_type": "code",
      "execution_count": 19,
      "metadata": {
        "collapsed": false
      },
      "outputs": [
        {
          "data": {
            "image/png": "[encoded data removed]",
            "text/plain": [
              "<Figure size 1000x300 with 5 Axes>"
            ]
          },
          "metadata": {},
          "output_type": "display_data"
        }
      ],
      "source": [
        "_, axes = plt.subplots(nrows=1, ncols=5, figsize=(10, 3))\n",
        "for ax, image, prediction in zip(axes, dataReal, predicted):\n",
        "    ax.set_axis_off()\n",
        "    image = image.reshape(8, 8)\n",
        "    ax.imshow(image, cmap=plt.cm.gray_r, interpolation=\"nearest\")\n",
        "    ax.set_title(f\"Prediction: {prediction}\")"
      ]
    },
    {
      "attachments": {},
      "cell_type": "markdown",
      "metadata": {},
      "source": [
        ":func:`~sklearn.metrics.classification_report` builds a text report showing\n",
        "the main classification metrics.\n",
        "\n"
      ]
    },
    {
      "cell_type": "code",
      "execution_count": 20,
      "metadata": {
        "collapsed": false
      },
      "outputs": [
        {
          "name": "stdout",
          "output_type": "stream",
          "text": [
            "Classification report for classifier SVC(gamma=0.001):\n",
            "              precision    recall  f1-score   support\n",
            "\n",
            "           0       1.00      0.50      0.67         8\n",
            "           1       0.75      0.38      0.50         8\n",
            "           2       0.00      0.00      0.00         8\n",
            "           3       1.00      0.12      0.22         8\n",
            "           4       0.58      0.88      0.70         8\n",
            "           5       1.00      0.50      0.67         8\n",
            "           6       0.24      1.00      0.38         8\n",
            "           7       1.00      0.62      0.77         8\n",
            "           8       0.75      0.38      0.50         8\n",
            "           9       0.50      0.75      0.60         8\n",
            "\n",
            "    accuracy                           0.51        80\n",
            "   macro avg       0.68      0.51      0.50        80\n",
            "weighted avg       0.68      0.51      0.50        80\n",
            "\n",
            "\n"
          ]
        },
        {
          "name": "stderr",
          "output_type": "stream",
          "text": [
            "c:\\Users\\Admin\\AppData\\Local\\Programs\\Python\\Python311\\Lib\\site-packages\\sklearn\\metrics\\_classification.py:1344: UndefinedMetricWarning: Precision and F-score are ill-defined and being set to 0.0 in labels with no predicted samples. Use `zero_division` parameter to control this behavior.\n",
            "  _warn_prf(average, modifier, msg_start, len(result))\n",
            "c:\\Users\\Admin\\AppData\\Local\\Programs\\Python\\Python311\\Lib\\site-packages\\sklearn\\metrics\\_classification.py:1344: UndefinedMetricWarning: Precision and F-score are ill-defined and being set to 0.0 in labels with no predicted samples. Use `zero_division` parameter to control this behavior.\n",
            "  _warn_prf(average, modifier, msg_start, len(result))\n",
            "c:\\Users\\Admin\\AppData\\Local\\Programs\\Python\\Python311\\Lib\\site-packages\\sklearn\\metrics\\_classification.py:1344: UndefinedMetricWarning: Precision and F-score are ill-defined and being set to 0.0 in labels with no predicted samples. Use `zero_division` parameter to control this behavior.\n",
            "  _warn_prf(average, modifier, msg_start, len(result))\n"
          ]
        }
      ],
      "source": [
        "print(\n",
        "    f\"Classification report for classifier {clf}:\\n\"\n",
        "    f\"{metrics.classification_report(y_test, predicted)}\\n\"\n",
        ")"
      ]
    },
    {
      "attachments": {},
      "cell_type": "markdown",
      "metadata": {},
      "source": [
        "We can also plot a `confusion matrix <confusion_matrix>` of the\n",
        "true digit values and the predicted digit values.\n",
        "\n"
      ]
    },
    {
      "cell_type": "code",
      "execution_count": 11,
      "metadata": {
        "collapsed": false
      },
      "outputs": [
        {
          "name": "stdout",
          "output_type": "stream",
          "text": [
            "Confusion matrix:\n",
            "[[4 0 0 0 2 1 1 0 0 1]\n",
            " [0 1 0 2 5 1 0 0 0 0]\n",
            " [0 0 5 1 0 1 0 2 0 0]\n",
            " [0 0 1 5 0 1 0 2 0 0]\n",
            " [0 0 0 1 4 0 1 2 0 1]\n",
            " [0 0 0 0 0 9 0 0 0 0]\n",
            " [0 0 1 0 3 1 4 0 0 0]\n",
            " [0 0 0 0 0 0 0 8 0 1]\n",
            " [0 0 0 0 0 0 0 0 8 1]\n",
            " [0 0 0 1 0 0 0 1 1 6]]\n"
          ]
        },
        {
          "data": {
            "image/png": "[encoded data removed]",
            "text/plain": [
              "<Figure size 640x480 with 2 Axes>"
            ]
          },
          "metadata": {},
          "output_type": "display_data"
        }
      ],
      "source": [
        "disp = metrics.ConfusionMatrixDisplay.from_predictions(y_test, predicted)\n",
        "disp.figure_.suptitle(\"Confusion Matrix\")\n",
        "print(f\"Confusion matrix:\\n{disp.confusion_matrix}\")\n",
        "\n",
        "plt.show()"
      ]
    },
    {
      "attachments": {},
      "cell_type": "markdown",
      "metadata": {},
      "source": [
        "If the results from evaluating a classifier are stored in the form of a\n",
        "`confusion matrix <confusion_matrix>` and not in terms of `y_true` and\n",
        "`y_pred`, one can still build a :func:`~sklearn.metrics.classification_report`\n",
        "as follows:\n",
        "\n"
      ]
    },
    {
      "cell_type": "code",
      "execution_count": 12,
      "metadata": {
        "collapsed": false
      },
      "outputs": [
        {
          "name": "stdout",
          "output_type": "stream",
          "text": [
            "Classification report rebuilt from confusion matrix:\n",
            "              precision    recall  f1-score   support\n",
            "\n",
            "           0       1.00      0.44      0.62         9\n",
            "           1       1.00      0.11      0.20         9\n",
            "           2       0.71      0.56      0.63         9\n",
            "           3       0.50      0.56      0.53         9\n",
            "           4       0.29      0.44      0.35         9\n",
            "           5       0.64      1.00      0.78         9\n",
            "           6       0.67      0.44      0.53         9\n",
            "           7       0.53      0.89      0.67         9\n",
            "           8       0.89      0.89      0.89         9\n",
            "           9       0.60      0.67      0.63         9\n",
            "\n",
            "    accuracy                           0.60        90\n",
            "   macro avg       0.68      0.60      0.58        90\n",
            "weighted avg       0.68      0.60      0.58        90\n",
            "\n",
            "\n"
          ]
        }
      ],
      "source": [
        "# The ground truth and predicted lists\n",
        "y_true = []\n",
        "y_pred = []\n",
        "cm = disp.confusion_matrix\n",
        "\n",
        "# For each cell in the confusion matrix, add the corresponding ground truths\n",
        "# and predictions to the lists\n",
        "for gt in range(len(cm)):\n",
        "    for pred in range(len(cm)):\n",
        "        y_true += [gt] * cm[gt][pred]\n",
        "        y_pred += [pred] * cm[gt][pred]\n",
        "\n",
        "print(\n",
        "    \"Classification report rebuilt from confusion matrix:\\n\"\n",
        "    f\"{metrics.classification_report(y_true, y_pred)}\\n\"\n",
        ")"
      ]
    }
  ],
  "metadata": {
    "kernelspec": {
      "display_name": "Python 3",
      "language": "python",
      "name": "python3"
    },
    "language_info": {
      "codemirror_mode": {
        "name": "ipython",
        "version": 3
      },
      "file_extension": ".py",
      "mimetype": "text/x-python",
      "name": "python",
      "nbconvert_exporter": "python",
      "pygments_lexer": "ipython3",
      "version": "3.11.0"
    }
  },
  "nbformat": 4,
  "nbformat_minor": 0
}
